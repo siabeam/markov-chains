{
 "cells": [
  {
   "cell_type": "code",
   "execution_count": 18,
   "id": "ab66cf8d-0dff-48c8-8522-40f241e87e0f",
   "metadata": {},
   "outputs": [],
   "source": [
    "import pandas as pd\n",
    "import numpy as np\n",
    "import re"
   ]
  },
  {
   "cell_type": "code",
   "execution_count": 2,
   "id": "3317e9b3-2993-4b08-b636-1012f1872af7",
   "metadata": {},
   "outputs": [],
   "source": [
    "with open(\"HP1.txt\", \"r\") as file:\n",
    "    content = file.read()"
   ]
  },
  {
   "cell_type": "code",
   "execution_count": 6,
   "id": "510b3932-8626-4bec-a58d-e71bfaad42b7",
   "metadata": {},
   "outputs": [],
   "source": [
    "content_n_splitted = content.split('\\n')"
   ]
  },
  {
   "cell_type": "code",
   "execution_count": 15,
   "id": "6f625509-b3f1-411c-822d-47068212e6e2",
   "metadata": {},
   "outputs": [],
   "source": [
    "book_no_speech = []\n",
    "for line in content_n_splitted:\n",
    "    if not (line.startswith('Глава') or line.startswith('— ') or line.startswith('* * *')):\n",
    "        book_no_speech.append(line)\n",
    "\n",
    "book_no_pnct = []\n",
    "for line in book_no_speech:\n",
    "    line_no_pnkt = re.sub(r'[^\\w\\s]', '', line)\n",
    "    book_no_pnct.append(line_no_pnkt)"
   ]
  },
  {
   "cell_type": "code",
   "execution_count": null,
   "id": "a134c048-3314-4ebf-9c16-1bea7dd0f29a",
   "metadata": {},
   "outputs": [],
   "source": []
  },
  {
   "cell_type": "code",
   "execution_count": null,
   "id": "35142294-821d-46e4-a0d3-a7a2effb0160",
   "metadata": {
    "scrolled": true
   },
   "outputs": [],
   "source": []
  },
  {
   "cell_type": "code",
   "execution_count": null,
   "id": "9810310f-e7d7-48a8-b2d4-2db8f023da72",
   "metadata": {},
   "outputs": [],
   "source": []
  }
 ],
 "metadata": {
  "kernelspec": {
   "display_name": "Python 3 (ipykernel)",
   "language": "python",
   "name": "python3"
  },
  "language_info": {
   "codemirror_mode": {
    "name": "ipython",
    "version": 3
   },
   "file_extension": ".py",
   "mimetype": "text/x-python",
   "name": "python",
   "nbconvert_exporter": "python",
   "pygments_lexer": "ipython3",
   "version": "3.12.0"
  }
 },
 "nbformat": 4,
 "nbformat_minor": 5
}
